{
 "cells": [
  {
   "cell_type": "markdown",
   "id": "4b04c1d2-b54b-4d06-9918-de40868b6277",
   "metadata": {},
   "source": [
    "# Check MAOS PSFs\n",
    "Run this notebook before running `observation.ipynb`. "
   ]
  },
  {
   "cell_type": "code",
   "execution_count": 6,
   "id": "6a922cb1-3734-4e8e-879d-82d7ea05269d",
   "metadata": {},
   "outputs": [],
   "source": [
    "# %load_ext autoreload\n",
    "\n",
    "import sys\n",
    "import os\n",
    "sys.path.append(os.path.abspath(\"..\"))\n",
    "\n",
    "# Import packages\n",
    "from maosi2 import config\n",
    "from maosi2.check_maos_psfs import check_maos_psfs_filepath\n",
    "from maosi2.check_maos_psfs import load_maos_psfs"
   ]
  },
  {
   "cell_type": "markdown",
   "id": "022a83ea-e2d3-47c7-bb85-99db7dccf2ea",
   "metadata": {},
   "source": [
    "## Configuration"
   ]
  },
  {
   "cell_type": "code",
   "execution_count": 17,
   "id": "c5de4221-a68c-4b1a-ac7a-636074221e05",
   "metadata": {},
   "outputs": [],
   "source": [
    "%autoreload 2\n",
    "base_dir = config.base_directory\n",
    "kola_dir = config.kola_directory"
   ]
  },
  {
   "cell_type": "code",
   "execution_count": 18,
   "id": "dda323f4-44e6-4242-b454-5de86861b7ef",
   "metadata": {},
   "outputs": [
    {
     "name": "stdout",
     "output_type": "stream",
     "text": [
      "Checking if path to PSFs exist...\n",
      "Found psf directory: /u/bpeck/work/ao/scao/base_with_new_maos/base/psf_512_line\n",
      "\n",
      "Checking if path to PSFs exist...\n",
      "Found psf directory: /u/bpeck/work/ao/mcao/vismcao/studies/older/lgs_study7/10lgs/evlpsfcl_1_x0_y0.fits\n",
      "\n"
     ]
    }
   ],
   "source": [
    "check_maos_psfs_filepath(base_dir, silent=False)\n",
    "check_maos_psfs_filepath(kola_dir, silent=False)"
   ]
  },
  {
   "cell_type": "code",
   "execution_count": 30,
   "id": "08bb340f-9b6b-411e-a48d-962fad58a268",
   "metadata": {},
   "outputs": [
    {
     "name": "stdout",
     "output_type": "stream",
     "text": [
      "[[0.0, 0.0], [0.0, 0.0], [0.0, 0.0], [0.0, 0.0], [0.0, 0.0], [0.0, 0.0], [0.0, 0.0], [0.0, 0.0], [0.0, 0.0], [10.0, 0.0], [10.0, 0.0], [10.0, 0.0], [10.0, 0.0], [10.0, 0.0], [10.0, 0.0], [10.0, 0.0], [10.0, 0.0], [10.0, 0.0], [15.0, 0.0], [15.0, 0.0], [15.0, 0.0], [15.0, 0.0], [15.0, 0.0], [15.0, 0.0], [15.0, 0.0], [15.0, 0.0], [15.0, 0.0], [20.0, 0.0], [20.0, 0.0], [20.0, 0.0], [20.0, 0.0], [20.0, 0.0], [20.0, 0.0], [20.0, 0.0], [20.0, 0.0], [20.0, 0.0], [25.0, 0.0], [25.0, 0.0], [25.0, 0.0], [25.0, 0.0], [25.0, 0.0], [25.0, 0.0], [25.0, 0.0], [25.0, 0.0], [25.0, 0.0], [30.0, 0.0], [30.0, 0.0], [30.0, 0.0], [30.0, 0.0], [30.0, 0.0], [30.0, 0.0], [30.0, 0.0], [30.0, 0.0], [30.0, 0.0], [35.0, 0.0], [35.0, 0.0], [35.0, 0.0], [35.0, 0.0], [35.0, 0.0], [35.0, 0.0], [35.0, 0.0], [35.0, 0.0], [35.0, 0.0], [45.0, 0.0], [45.0, 0.0], [45.0, 0.0], [45.0, 0.0], [45.0, 0.0], [45.0, 0.0], [45.0, 0.0], [45.0, 0.0], [45.0, 0.0], [5.0, 0.0], [5.0, 0.0], [5.0, 0.0], [5.0, 0.0], [5.0, 0.0], [5.0, 0.0], [5.0, 0.0], [5.0, 0.0], [5.0, 0.0], [60.0, 0.0], [60.0, 0.0], [60.0, 0.0], [60.0, 0.0], [60.0, 0.0], [60.0, 0.0], [60.0, 0.0], [60.0, 0.0], [60.0, 0.0]]\n",
      "Found 90 psfs.\n",
      "Found 90 wavelengths from 432.0 nm to 2200.0 nm.\n"
     ]
    }
   ],
   "source": [
    "%autoreload 2\n",
    "data = load_maos_psfs(base_dir, silent=False)"
   ]
  },
  {
   "cell_type": "code",
   "execution_count": null,
   "id": "8b3affd9-9a52-4545-9a85-74b2e4771ea1",
   "metadata": {},
   "outputs": [],
   "source": []
  }
 ],
 "metadata": {
  "kernelspec": {
   "display_name": "Python 3 (ipykernel)",
   "language": "python",
   "name": "python3"
  },
  "language_info": {
   "codemirror_mode": {
    "name": "ipython",
    "version": 3
   },
   "file_extension": ".py",
   "mimetype": "text/x-python",
   "name": "python",
   "nbconvert_exporter": "python",
   "pygments_lexer": "ipython3",
   "version": "3.11.0"
  }
 },
 "nbformat": 4,
 "nbformat_minor": 5
}

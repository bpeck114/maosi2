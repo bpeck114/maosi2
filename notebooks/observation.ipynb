{
 "cells": [
  {
   "cell_type": "markdown",
   "id": "ce83c9b4-9092-4538-9057-4cf1cb42ad51",
   "metadata": {},
   "source": [
    "# MAOSI Observation"
   ]
  },
  {
   "cell_type": "code",
   "execution_count": 3,
   "id": "4abad746-0a50-4240-af8e-d00e17d079e3",
   "metadata": {},
   "outputs": [],
   "source": [
    "%load_ext autoreload\n",
    "\n",
    "# Import packages"
   ]
  },
  {
   "cell_type": "code",
   "execution_count": null,
   "id": "d670a2f0-a3d0-4792-b31c-5fb56d0ab77e",
   "metadata": {},
   "outputs": [],
   "source": []
  }
 ],
 "metadata": {
  "kernelspec": {
   "display_name": "Python 3 (ipykernel)",
   "language": "python",
   "name": "python3"
  },
  "language_info": {
   "codemirror_mode": {
    "name": "ipython",
    "version": 3
   },
   "file_extension": ".py",
   "mimetype": "text/x-python",
   "name": "python",
   "nbconvert_exporter": "python",
   "pygments_lexer": "ipython3",
   "version": "3.11.0"
  }
 },
 "nbformat": 4,
 "nbformat_minor": 5
}
